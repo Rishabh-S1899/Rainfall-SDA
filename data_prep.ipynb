{
 "cells": [
  {
   "cell_type": "code",
   "execution_count": 2,
   "id": "4c92dc8f",
   "metadata": {},
   "outputs": [],
   "source": [
    "import pandas as pd"
   ]
  },
  {
   "cell_type": "code",
   "execution_count": 39,
   "id": "1278f8f2",
   "metadata": {},
   "outputs": [],
   "source": [
    "df_weather=pd.read_csv('datasets/weather.csv',encoding='utf-8')"
   ]
  },
  {
   "cell_type": "code",
   "execution_count": null,
   "id": "4b728805",
   "metadata": {},
   "outputs": [],
   "source": [
    "from pprint import pprint\n",
    "pprint(df_weather.columns.tolist())\n"
   ]
  },
  {
   "cell_type": "code",
   "execution_count": 41,
   "id": "010fc280",
   "metadata": {},
   "outputs": [],
   "source": [
    "df_val=pd.read_csv('datasets/weather_val.csv',encoding='utf-8')"
   ]
  },
  {
   "cell_type": "code",
   "execution_count": null,
   "id": "e493852a",
   "metadata": {},
   "outputs": [],
   "source": [
    "from pprint import pprint\n",
    "pprint(df_val.columns.tolist())"
   ]
  },
  {
   "cell_type": "code",
   "execution_count": 4,
   "id": "2da31d7e",
   "metadata": {},
   "outputs": [
    {
     "data": {
      "text/html": [
       "<div>\n",
       "<style scoped>\n",
       "    .dataframe tbody tr th:only-of-type {\n",
       "        vertical-align: middle;\n",
       "    }\n",
       "\n",
       "    .dataframe tbody tr th {\n",
       "        vertical-align: top;\n",
       "    }\n",
       "\n",
       "    .dataframe thead th {\n",
       "        text-align: right;\n",
       "    }\n",
       "</style>\n",
       "<table border=\"1\" class=\"dataframe\">\n",
       "  <thead>\n",
       "    <tr style=\"text-align: right;\">\n",
       "      <th></th>\n",
       "      <th>01-01 01:00</th>\n",
       "      <th>01-01 02:00</th>\n",
       "      <th>01-01 03:00</th>\n",
       "      <th>01-01 04:00</th>\n",
       "      <th>01-01 05:00</th>\n",
       "      <th>01-01 06:00</th>\n",
       "      <th>01-01 07:00</th>\n",
       "      <th>01-01 08:00</th>\n",
       "      <th>01-01 09:00</th>\n",
       "      <th>01-01 10:00</th>\n",
       "      <th>...</th>\n",
       "      <th>19-01 05:00.33</th>\n",
       "      <th>19-01 06:00.33</th>\n",
       "      <th>19-01 07:00.33</th>\n",
       "      <th>19-01 08:00.33</th>\n",
       "      <th>19-01 09:00.33</th>\n",
       "      <th>19-01 10:00.33</th>\n",
       "      <th>19-01 11:00.33</th>\n",
       "      <th>19-01 12:00.33</th>\n",
       "      <th>19-01 13:00.33</th>\n",
       "      <th>19-01 14:00.33</th>\n",
       "    </tr>\n",
       "  </thead>\n",
       "  <tbody>\n",
       "    <tr>\n",
       "      <th>0</th>\n",
       "      <td>0.0</td>\n",
       "      <td>0.000009</td>\n",
       "      <td>0.000014</td>\n",
       "      <td>0.000014</td>\n",
       "      <td>0.000032</td>\n",
       "      <td>0.000149</td>\n",
       "      <td>0.000186</td>\n",
       "      <td>0.001388</td>\n",
       "      <td>0.001468</td>\n",
       "      <td>0.001468</td>\n",
       "      <td>...</td>\n",
       "      <td>0.0</td>\n",
       "      <td>0.0</td>\n",
       "      <td>0.0</td>\n",
       "      <td>0.0</td>\n",
       "      <td>0.0</td>\n",
       "      <td>0.0</td>\n",
       "      <td>0.0</td>\n",
       "      <td>0.0</td>\n",
       "      <td>0.0</td>\n",
       "      <td>0.0</td>\n",
       "    </tr>\n",
       "    <tr>\n",
       "      <th>1</th>\n",
       "      <td>0.0</td>\n",
       "      <td>0.000000</td>\n",
       "      <td>0.000000</td>\n",
       "      <td>0.000000</td>\n",
       "      <td>0.000017</td>\n",
       "      <td>0.000121</td>\n",
       "      <td>0.000152</td>\n",
       "      <td>0.001315</td>\n",
       "      <td>0.001386</td>\n",
       "      <td>0.001386</td>\n",
       "      <td>...</td>\n",
       "      <td>0.0</td>\n",
       "      <td>0.0</td>\n",
       "      <td>0.0</td>\n",
       "      <td>0.0</td>\n",
       "      <td>0.0</td>\n",
       "      <td>0.0</td>\n",
       "      <td>0.0</td>\n",
       "      <td>0.0</td>\n",
       "      <td>0.0</td>\n",
       "      <td>0.0</td>\n",
       "    </tr>\n",
       "    <tr>\n",
       "      <th>2</th>\n",
       "      <td>0.0</td>\n",
       "      <td>0.000000</td>\n",
       "      <td>0.000000</td>\n",
       "      <td>0.000000</td>\n",
       "      <td>0.000016</td>\n",
       "      <td>0.000103</td>\n",
       "      <td>0.000128</td>\n",
       "      <td>0.001226</td>\n",
       "      <td>0.001288</td>\n",
       "      <td>0.001288</td>\n",
       "      <td>...</td>\n",
       "      <td>0.0</td>\n",
       "      <td>0.0</td>\n",
       "      <td>0.0</td>\n",
       "      <td>0.0</td>\n",
       "      <td>0.0</td>\n",
       "      <td>0.0</td>\n",
       "      <td>0.0</td>\n",
       "      <td>0.0</td>\n",
       "      <td>0.0</td>\n",
       "      <td>0.0</td>\n",
       "    </tr>\n",
       "    <tr>\n",
       "      <th>3</th>\n",
       "      <td>0.0</td>\n",
       "      <td>0.000000</td>\n",
       "      <td>0.000000</td>\n",
       "      <td>0.000000</td>\n",
       "      <td>0.000015</td>\n",
       "      <td>0.000084</td>\n",
       "      <td>0.000103</td>\n",
       "      <td>0.001137</td>\n",
       "      <td>0.001190</td>\n",
       "      <td>0.001190</td>\n",
       "      <td>...</td>\n",
       "      <td>0.0</td>\n",
       "      <td>0.0</td>\n",
       "      <td>0.0</td>\n",
       "      <td>0.0</td>\n",
       "      <td>0.0</td>\n",
       "      <td>0.0</td>\n",
       "      <td>0.0</td>\n",
       "      <td>0.0</td>\n",
       "      <td>0.0</td>\n",
       "      <td>0.0</td>\n",
       "    </tr>\n",
       "    <tr>\n",
       "      <th>4</th>\n",
       "      <td>0.0</td>\n",
       "      <td>0.000000</td>\n",
       "      <td>0.000000</td>\n",
       "      <td>0.000000</td>\n",
       "      <td>0.000016</td>\n",
       "      <td>0.000070</td>\n",
       "      <td>0.000084</td>\n",
       "      <td>0.000832</td>\n",
       "      <td>0.000984</td>\n",
       "      <td>0.000984</td>\n",
       "      <td>...</td>\n",
       "      <td>0.0</td>\n",
       "      <td>0.0</td>\n",
       "      <td>0.0</td>\n",
       "      <td>0.0</td>\n",
       "      <td>0.0</td>\n",
       "      <td>0.0</td>\n",
       "      <td>0.0</td>\n",
       "      <td>0.0</td>\n",
       "      <td>0.0</td>\n",
       "      <td>0.0</td>\n",
       "    </tr>\n",
       "  </tbody>\n",
       "</table>\n",
       "<p>5 rows × 24494 columns</p>\n",
       "</div>"
      ],
      "text/plain": [
       "   01-01 01:00  01-01 02:00  01-01 03:00  01-01 04:00  01-01 05:00  \\\n",
       "0          0.0     0.000009     0.000014     0.000014     0.000032   \n",
       "1          0.0     0.000000     0.000000     0.000000     0.000017   \n",
       "2          0.0     0.000000     0.000000     0.000000     0.000016   \n",
       "3          0.0     0.000000     0.000000     0.000000     0.000015   \n",
       "4          0.0     0.000000     0.000000     0.000000     0.000016   \n",
       "\n",
       "   01-01 06:00  01-01 07:00  01-01 08:00  01-01 09:00  01-01 10:00  ...  \\\n",
       "0     0.000149     0.000186     0.001388     0.001468     0.001468  ...   \n",
       "1     0.000121     0.000152     0.001315     0.001386     0.001386  ...   \n",
       "2     0.000103     0.000128     0.001226     0.001288     0.001288  ...   \n",
       "3     0.000084     0.000103     0.001137     0.001190     0.001190  ...   \n",
       "4     0.000070     0.000084     0.000832     0.000984     0.000984  ...   \n",
       "\n",
       "   19-01 05:00.33  19-01 06:00.33  19-01 07:00.33  19-01 08:00.33  \\\n",
       "0             0.0             0.0             0.0             0.0   \n",
       "1             0.0             0.0             0.0             0.0   \n",
       "2             0.0             0.0             0.0             0.0   \n",
       "3             0.0             0.0             0.0             0.0   \n",
       "4             0.0             0.0             0.0             0.0   \n",
       "\n",
       "   19-01 09:00.33  19-01 10:00.33  19-01 11:00.33  19-01 12:00.33  \\\n",
       "0             0.0             0.0             0.0             0.0   \n",
       "1             0.0             0.0             0.0             0.0   \n",
       "2             0.0             0.0             0.0             0.0   \n",
       "3             0.0             0.0             0.0             0.0   \n",
       "4             0.0             0.0             0.0             0.0   \n",
       "\n",
       "   19-01 13:00.33  19-01 14:00.33  \n",
       "0             0.0             0.0  \n",
       "1             0.0             0.0  \n",
       "2             0.0             0.0  \n",
       "3             0.0             0.0  \n",
       "4             0.0             0.0  \n",
       "\n",
       "[5 rows x 24494 columns]"
      ]
     },
     "execution_count": 4,
     "metadata": {},
     "output_type": "execute_result"
    }
   ],
   "source": [
    "df_weather.head()"
   ]
  },
  {
   "cell_type": "code",
   "execution_count": 5,
   "id": "f6871a3d",
   "metadata": {},
   "outputs": [
    {
     "data": {
      "text/plain": [
       "(7396, 24494)"
      ]
     },
     "execution_count": 5,
     "metadata": {},
     "output_type": "execute_result"
    }
   ],
   "source": [
    "df_weather.shape"
   ]
  },
  {
   "cell_type": "code",
   "execution_count": 6,
   "id": "f0cfd960",
   "metadata": {},
   "outputs": [],
   "source": [
    "coordinates = pd.read_csv('coordinates.csv',encoding='utf-8')"
   ]
  },
  {
   "cell_type": "code",
   "execution_count": 10,
   "id": "8c554a0f",
   "metadata": {},
   "outputs": [
    {
     "data": {
      "text/plain": [
       "7396"
      ]
     },
     "execution_count": 10,
     "metadata": {},
     "output_type": "execute_result"
    }
   ],
   "source": [
    "len(coordinates['longitude'])"
   ]
  },
  {
   "cell_type": "code",
   "execution_count": 11,
   "id": "a90ecc91",
   "metadata": {},
   "outputs": [],
   "source": [
    "df_weather['longitude']=coordinates['longitude']"
   ]
  },
  {
   "cell_type": "code",
   "execution_count": 12,
   "id": "10129195",
   "metadata": {},
   "outputs": [],
   "source": [
    "df_weather['latitude']=coordinates['latitude']"
   ]
  },
  {
   "cell_type": "code",
   "execution_count": 5,
   "id": "0e72295b",
   "metadata": {},
   "outputs": [
    {
     "ename": "NameError",
     "evalue": "name 'df_weather' is not defined",
     "output_type": "error",
     "traceback": [
      "\u001b[1;31m---------------------------------------------------------------------------\u001b[0m",
      "\u001b[1;31mNameError\u001b[0m                                 Traceback (most recent call last)",
      "Cell \u001b[1;32mIn[5], line 1\u001b[0m\n\u001b[1;32m----> 1\u001b[0m \u001b[43mdf_weather\u001b[49m\u001b[38;5;241m.\u001b[39mto_csv(\u001b[38;5;124m'\u001b[39m\u001b[38;5;124mweather_with_coordinates.csv\u001b[39m\u001b[38;5;124m'\u001b[39m,index\u001b[38;5;241m=\u001b[39m\u001b[38;5;28;01mFalse\u001b[39;00m)\n",
      "\u001b[1;31mNameError\u001b[0m: name 'df_weather' is not defined"
     ]
    }
   ],
   "source": [
    "df_weather.to_csv('weather_with_coordinates.csv',index=False)"
   ]
  },
  {
   "cell_type": "code",
   "execution_count": 3,
   "id": "9f63de3b",
   "metadata": {},
   "outputs": [],
   "source": [
    "df=pd.read_csv('datasets/weather_with_coordinates.csv',encoding='utf-8')"
   ]
  },
  {
   "cell_type": "code",
   "execution_count": 4,
   "id": "b49c6655",
   "metadata": {},
   "outputs": [
    {
     "data": {
      "text/plain": [
       "Index(['01-01 01:00', '01-01 02:00', '01-01 03:00', '01-01 04:00',\n",
       "       '01-01 05:00', '01-01 06:00', '01-01 07:00', '01-01 08:00',\n",
       "       '01-01 09:00', '01-01 10:00',\n",
       "       ...\n",
       "       '19-01 07:00.33', '19-01 08:00.33', '19-01 09:00.33', '19-01 10:00.33',\n",
       "       '19-01 11:00.33', '19-01 12:00.33', '19-01 13:00.33', '19-01 14:00.33',\n",
       "       'longitude', 'latitude'],\n",
       "      dtype='object', length=24496)"
      ]
     },
     "execution_count": 4,
     "metadata": {},
     "output_type": "execute_result"
    }
   ],
   "source": [
    "df.columns"
   ]
  },
  {
   "cell_type": "code",
   "execution_count": 20,
   "id": "683f8cd9",
   "metadata": {},
   "outputs": [
    {
     "data": {
      "text/plain": [
       "(7396, 24496)"
      ]
     },
     "execution_count": 20,
     "metadata": {},
     "output_type": "execute_result"
    }
   ],
   "source": [
    "df.shape"
   ]
  },
  {
   "cell_type": "code",
   "execution_count": 27,
   "id": "ce542136",
   "metadata": {},
   "outputs": [
    {
     "data": {
      "text/plain": [
       "'01-01 24:00'"
      ]
     },
     "execution_count": 27,
     "metadata": {},
     "output_type": "execute_result"
    }
   ],
   "source": [
    "df.columns[23]"
   ]
  },
  {
   "cell_type": "code",
   "execution_count": null,
   "id": "e2ec2ac4",
   "metadata": {},
   "outputs": [],
   "source": [
    "from pprint import pprint\n",
    "pprint(df.columns.tolist())"
   ]
  },
  {
   "cell_type": "code",
   "execution_count": 36,
   "id": "3a57cb8c",
   "metadata": {},
   "outputs": [
    {
     "name": "stdout",
     "output_type": "stream",
     "text": [
      "--- Corrected df_long.head() ---\n",
      "                     latitude  longitude  rainfall\n",
      "timestamp                                         \n",
      "2021-01-01 01:00:00      37.0       72.5       0.0\n",
      "2021-01-01 01:00:00      37.0       72.6       0.0\n",
      "2021-01-01 01:00:00      37.0       72.7       0.0\n",
      "2021-01-01 01:00:00      37.0       72.8       0.0\n",
      "2021-01-01 01:00:00      37.0       72.9       0.0\n",
      "\n",
      "--- Corrected df_long.tail() ---\n",
      "                     latitude  longitude  rainfall\n",
      "timestamp                                         \n",
      "2054-01-19 14:00:33      28.5       80.6       0.0\n",
      "2054-01-19 14:00:33      28.5       80.7       0.0\n",
      "2054-01-19 14:00:33      28.5       80.8       0.0\n",
      "2054-01-19 14:00:33      28.5       80.9       0.0\n",
      "2054-01-19 14:00:33      28.5       81.0       0.0\n"
     ]
    }
   ],
   "source": [
    "import pandas as pd\n",
    "\n",
    "def reshape_rainfall_data(df: pd.DataFrame, start_year: int) -> pd.DataFrame:\n",
    "    \"\"\"\n",
    "    Reshapes the rainfall data from a wide format to a long format,\n",
    "    handling inconsistent time formats (including '24:00') and adding the correct year.\n",
    "\n",
    "    Args:\n",
    "        df: The original wide-format DataFrame.\n",
    "        start_year: The first year of the 3-year data span.\n",
    "\n",
    "    Returns:\n",
    "        A long-format DataFrame with 'timestamp', 'latitude', 'longitude', \n",
    "        and 'rainfall' columns.\n",
    "    \"\"\"\n",
    "    # 1. Isolate the identifier columns (location) and the value columns (time)\n",
    "    id_vars = ['latitude', 'longitude']\n",
    "    time_cols = [col for col in df.columns if col not in id_vars]\n",
    "\n",
    "    # 2. Create a mapping from old column names to new, unambiguous timestamps\n",
    "    new_column_names = {}\n",
    "    current_year = start_year\n",
    "    # We use (month, day) tuple to detect when the year rolls over\n",
    "    last_month_day = (0, 0) \n",
    "\n",
    "    for col in time_cols:\n",
    "        parts = col.split(' ')\n",
    "        date_part = parts[0]\n",
    "        time_part = parts[1]\n",
    "        \n",
    "        day, month = map(int, date_part.split('-'))\n",
    "\n",
    "        # Logic to increment the year when the date rolls over\n",
    "        # e.g., when we go from (12, 31) to (1, 1)\n",
    "        if (month, day) < last_month_day:\n",
    "            current_year += 1\n",
    "        \n",
    "        # Update the last seen date for the next iteration\n",
    "        last_month_day = (month, day)\n",
    "\n",
    "        # Construct the full, unambiguous timestamp string in a standard format\n",
    "        # --- FIX: Use startswith to handle all '24:00' variations (e.g., '24:00.1') ---\n",
    "        if time_part.startswith('24:00'):\n",
    "            # Create a date object for the current day\n",
    "            current_day_timestamp = pd.to_datetime(f\"{current_year}-{month:02d}-{day:02d}\")\n",
    "            # Add one day to roll over to the next day at midnight\n",
    "            next_day_timestamp = current_day_timestamp + pd.Timedelta(days=1)\n",
    "            \n",
    "            # Handle potential seconds attached to '24:00' (e.g., '24:00.1')\n",
    "            time_part_corrected = time_part.replace('.', ':')\n",
    "            time_components = time_part_corrected.split(':')\n",
    "            \n",
    "            final_timestamp = next_day_timestamp\n",
    "            if len(time_components) > 2: # Check if seconds are present\n",
    "                seconds_to_add = int(time_components[2])\n",
    "                final_timestamp += pd.Timedelta(seconds=seconds_to_add)\n",
    "\n",
    "            # Format as a string\n",
    "            full_timestamp_str = final_timestamp.strftime(\"%Y-%m-%d %H:%M:%S\")\n",
    "        else:\n",
    "            # NORMAL HANDLING for other times, including the '.33' seconds format\n",
    "            time_part_corrected = time_part.replace('.', ':')\n",
    "            \n",
    "            # Ensure all timestamps have a seconds component for consistency\n",
    "            if time_part_corrected.count(':') == 1:\n",
    "                time_part_corrected += ':00'\n",
    "            \n",
    "            full_timestamp_str = f\"{current_year}-{month:02d}-{day:02d} {time_part_corrected}\"\n",
    "        \n",
    "        # Map the original column name to the new full timestamp\n",
    "        new_column_names[col] = full_timestamp_str\n",
    "\n",
    "    # 3. Rename the columns of the original DataFrame in one go\n",
    "    df_renamed = df.rename(columns=new_column_names)\n",
    "\n",
    "    # 4. Melt the DataFrame using the new, clean column names\n",
    "    value_vars_renamed = list(new_column_names.values())\n",
    "    df_long = pd.melt(df_renamed, id_vars=id_vars, value_vars=value_vars_renamed,\n",
    "                      var_name='timestamp', value_name='rainfall')\n",
    "\n",
    "    # 5. Convert the 'timestamp' column to a proper datetime object and set as index\n",
    "    df_long['timestamp'] = pd.to_datetime(df_long['timestamp'])\n",
    "    df_long.set_index('timestamp', inplace=True)\n",
    "    \n",
    "    # Sort the index to ensure chronological order\n",
    "    df_long.sort_index(inplace=True)\n",
    "\n",
    "    return df_long\n",
    "\n",
    "# --- HOW TO USE THE CODE ---\n",
    "# Assuming your original DataFrame is named 'df'\n",
    "# You MUST specify the starting year of your data.\n",
    "# For example, if your data starts in 2021:\n",
    "STARTING_YEAR = 2021 \n",
    "\n",
    "# Call the function to get the clean, long-format DataFrame\n",
    "df_long_corrected = reshape_rainfall_data(df.copy(), STARTING_YEAR)\n",
    "\n",
    "# Now, verify the output\n",
    "print(\"--- Corrected df_long.head() ---\")\n",
    "print(df_long_corrected.head())\n",
    "print(\"\\n--- Corrected df_long.tail() ---\")\n",
    "print(df_long_corrected.tail())\n",
    "\n"
   ]
  },
  {
   "cell_type": "code",
   "execution_count": null,
   "id": "7ce32e2c",
   "metadata": {},
   "outputs": [],
   "source": []
  },
  {
   "cell_type": "code",
   "execution_count": 21,
   "id": "7bd88fb3",
   "metadata": {},
   "outputs": [
    {
     "name": "stdout",
     "output_type": "stream",
     "text": [
      "           latitude  longitude  rainfall\n",
      "timestamp                               \n",
      "NaT            28.5       80.6       0.0\n",
      "NaT            28.5       80.7       0.0\n",
      "NaT            28.5       80.8       0.0\n",
      "NaT            28.5       80.9       0.0\n",
      "NaT            28.5       81.0       0.0\n"
     ]
    }
   ],
   "source": [
    "id_vars = ['latitude', 'longitude']\n",
    "value_vars = [col for col in df.columns if col not in id_vars]\n",
    "\n",
    "df_long = pd.melt(df, id_vars=id_vars, value_vars=value_vars, \n",
    "                  var_name='timestamp', value_name='rainfall')\n",
    "df_long['timestamp'] = pd.to_datetime(df_long['timestamp'], format='%d-%m %H:%M', errors='coerce')\n",
    "\n",
    "df_long.set_index('timestamp', inplace=True)\n",
    "\n",
    "print(df_long.tail())"
   ]
  },
  {
   "cell_type": "code",
   "execution_count": 18,
   "id": "dc3daf6f",
   "metadata": {},
   "outputs": [
    {
     "name": "stdout",
     "output_type": "stream",
     "text": [
      "(181157624, 3)\n"
     ]
    }
   ],
   "source": [
    "print(df_long.shape)"
   ]
  },
  {
   "cell_type": "code",
   "execution_count": 10,
   "id": "da5a4afe",
   "metadata": {},
   "outputs": [],
   "source": [
    "df_long.to_csv('datasets/rainfall.csv',index=False)"
   ]
  },
  {
   "cell_type": "code",
   "execution_count": 1,
   "id": "392226d6",
   "metadata": {},
   "outputs": [],
   "source": [
    "import pandas as pd"
   ]
  },
  {
   "cell_type": "code",
   "execution_count": 4,
   "id": "185c9b63",
   "metadata": {},
   "outputs": [],
   "source": [
    "df=pd.read_csv('datasets/rainfall_data_transformed_final.csv',encoding='utf-8')"
   ]
  },
  {
   "cell_type": "code",
   "execution_count": 5,
   "id": "714ab749",
   "metadata": {},
   "outputs": [
    {
     "data": {
      "text/html": [
       "<div>\n",
       "<style scoped>\n",
       "    .dataframe tbody tr th:only-of-type {\n",
       "        vertical-align: middle;\n",
       "    }\n",
       "\n",
       "    .dataframe tbody tr th {\n",
       "        vertical-align: top;\n",
       "    }\n",
       "\n",
       "    .dataframe thead th {\n",
       "        text-align: right;\n",
       "    }\n",
       "</style>\n",
       "<table border=\"1\" class=\"dataframe\">\n",
       "  <thead>\n",
       "    <tr style=\"text-align: right;\">\n",
       "      <th></th>\n",
       "      <th>latitude</th>\n",
       "      <th>longitude</th>\n",
       "      <th>2010-06-01 00:00:00</th>\n",
       "      <th>2010-06-01 01:00:00</th>\n",
       "      <th>2010-06-01 02:00:00</th>\n",
       "      <th>2010-06-01 03:00:00</th>\n",
       "      <th>2010-06-01 04:00:00</th>\n",
       "      <th>2010-06-01 05:00:00</th>\n",
       "      <th>2010-06-01 06:00:00</th>\n",
       "      <th>2010-06-01 07:00:00</th>\n",
       "      <th>...</th>\n",
       "      <th>2024-09-30 14:00:00</th>\n",
       "      <th>2024-09-30 15:00:00</th>\n",
       "      <th>2024-09-30 16:00:00</th>\n",
       "      <th>2024-09-30 17:00:00</th>\n",
       "      <th>2024-09-30 18:00:00</th>\n",
       "      <th>2024-09-30 19:00:00</th>\n",
       "      <th>2024-09-30 20:00:00</th>\n",
       "      <th>2024-09-30 21:00:00</th>\n",
       "      <th>2024-09-30 22:00:00</th>\n",
       "      <th>2024-09-30 23:00:00</th>\n",
       "    </tr>\n",
       "  </thead>\n",
       "  <tbody>\n",
       "    <tr>\n",
       "      <th>0</th>\n",
       "      <td>28.44</td>\n",
       "      <td>75.47</td>\n",
       "      <td>0.0</td>\n",
       "      <td>0.0</td>\n",
       "      <td>0.0</td>\n",
       "      <td>0.0</td>\n",
       "      <td>0.0</td>\n",
       "      <td>0.0</td>\n",
       "      <td>0.000000e+00</td>\n",
       "      <td>0.0</td>\n",
       "      <td>...</td>\n",
       "      <td>0.0</td>\n",
       "      <td>0.0</td>\n",
       "      <td>0.0</td>\n",
       "      <td>0.0</td>\n",
       "      <td>0.0</td>\n",
       "      <td>0.0</td>\n",
       "      <td>0.0</td>\n",
       "      <td>0.0</td>\n",
       "      <td>0.0</td>\n",
       "      <td>0.0</td>\n",
       "    </tr>\n",
       "    <tr>\n",
       "      <th>1</th>\n",
       "      <td>28.44</td>\n",
       "      <td>75.72</td>\n",
       "      <td>0.0</td>\n",
       "      <td>0.0</td>\n",
       "      <td>0.0</td>\n",
       "      <td>0.0</td>\n",
       "      <td>0.0</td>\n",
       "      <td>0.0</td>\n",
       "      <td>7.823110e-07</td>\n",
       "      <td>0.0</td>\n",
       "      <td>...</td>\n",
       "      <td>0.0</td>\n",
       "      <td>0.0</td>\n",
       "      <td>0.0</td>\n",
       "      <td>0.0</td>\n",
       "      <td>0.0</td>\n",
       "      <td>0.0</td>\n",
       "      <td>0.0</td>\n",
       "      <td>0.0</td>\n",
       "      <td>0.0</td>\n",
       "      <td>0.0</td>\n",
       "    </tr>\n",
       "    <tr>\n",
       "      <th>2</th>\n",
       "      <td>28.44</td>\n",
       "      <td>75.97</td>\n",
       "      <td>0.0</td>\n",
       "      <td>0.0</td>\n",
       "      <td>0.0</td>\n",
       "      <td>0.0</td>\n",
       "      <td>0.0</td>\n",
       "      <td>0.0</td>\n",
       "      <td>2.175569e-06</td>\n",
       "      <td>0.0</td>\n",
       "      <td>...</td>\n",
       "      <td>0.0</td>\n",
       "      <td>0.0</td>\n",
       "      <td>0.0</td>\n",
       "      <td>0.0</td>\n",
       "      <td>0.0</td>\n",
       "      <td>0.0</td>\n",
       "      <td>0.0</td>\n",
       "      <td>0.0</td>\n",
       "      <td>0.0</td>\n",
       "      <td>0.0</td>\n",
       "    </tr>\n",
       "    <tr>\n",
       "      <th>3</th>\n",
       "      <td>28.44</td>\n",
       "      <td>76.22</td>\n",
       "      <td>0.0</td>\n",
       "      <td>0.0</td>\n",
       "      <td>0.0</td>\n",
       "      <td>0.0</td>\n",
       "      <td>0.0</td>\n",
       "      <td>0.0</td>\n",
       "      <td>7.420778e-06</td>\n",
       "      <td>0.0</td>\n",
       "      <td>...</td>\n",
       "      <td>0.0</td>\n",
       "      <td>0.0</td>\n",
       "      <td>0.0</td>\n",
       "      <td>0.0</td>\n",
       "      <td>0.0</td>\n",
       "      <td>0.0</td>\n",
       "      <td>0.0</td>\n",
       "      <td>0.0</td>\n",
       "      <td>0.0</td>\n",
       "      <td>0.0</td>\n",
       "    </tr>\n",
       "    <tr>\n",
       "      <th>4</th>\n",
       "      <td>28.44</td>\n",
       "      <td>76.47</td>\n",
       "      <td>0.0</td>\n",
       "      <td>0.0</td>\n",
       "      <td>0.0</td>\n",
       "      <td>0.0</td>\n",
       "      <td>0.0</td>\n",
       "      <td>0.0</td>\n",
       "      <td>5.416572e-06</td>\n",
       "      <td>0.0</td>\n",
       "      <td>...</td>\n",
       "      <td>0.0</td>\n",
       "      <td>0.0</td>\n",
       "      <td>0.0</td>\n",
       "      <td>0.0</td>\n",
       "      <td>0.0</td>\n",
       "      <td>0.0</td>\n",
       "      <td>0.0</td>\n",
       "      <td>0.0</td>\n",
       "      <td>0.0</td>\n",
       "      <td>0.0</td>\n",
       "    </tr>\n",
       "  </tbody>\n",
       "</table>\n",
       "<p>5 rows × 43922 columns</p>\n",
       "</div>"
      ],
      "text/plain": [
       "   latitude  longitude  2010-06-01 00:00:00  2010-06-01 01:00:00  \\\n",
       "0     28.44      75.47                  0.0                  0.0   \n",
       "1     28.44      75.72                  0.0                  0.0   \n",
       "2     28.44      75.97                  0.0                  0.0   \n",
       "3     28.44      76.22                  0.0                  0.0   \n",
       "4     28.44      76.47                  0.0                  0.0   \n",
       "\n",
       "   2010-06-01 02:00:00  2010-06-01 03:00:00  2010-06-01 04:00:00  \\\n",
       "0                  0.0                  0.0                  0.0   \n",
       "1                  0.0                  0.0                  0.0   \n",
       "2                  0.0                  0.0                  0.0   \n",
       "3                  0.0                  0.0                  0.0   \n",
       "4                  0.0                  0.0                  0.0   \n",
       "\n",
       "   2010-06-01 05:00:00  2010-06-01 06:00:00  2010-06-01 07:00:00  ...  \\\n",
       "0                  0.0         0.000000e+00                  0.0  ...   \n",
       "1                  0.0         7.823110e-07                  0.0  ...   \n",
       "2                  0.0         2.175569e-06                  0.0  ...   \n",
       "3                  0.0         7.420778e-06                  0.0  ...   \n",
       "4                  0.0         5.416572e-06                  0.0  ...   \n",
       "\n",
       "   2024-09-30 14:00:00  2024-09-30 15:00:00  2024-09-30 16:00:00  \\\n",
       "0                  0.0                  0.0                  0.0   \n",
       "1                  0.0                  0.0                  0.0   \n",
       "2                  0.0                  0.0                  0.0   \n",
       "3                  0.0                  0.0                  0.0   \n",
       "4                  0.0                  0.0                  0.0   \n",
       "\n",
       "   2024-09-30 17:00:00  2024-09-30 18:00:00  2024-09-30 19:00:00  \\\n",
       "0                  0.0                  0.0                  0.0   \n",
       "1                  0.0                  0.0                  0.0   \n",
       "2                  0.0                  0.0                  0.0   \n",
       "3                  0.0                  0.0                  0.0   \n",
       "4                  0.0                  0.0                  0.0   \n",
       "\n",
       "   2024-09-30 20:00:00  2024-09-30 21:00:00  2024-09-30 22:00:00  \\\n",
       "0                  0.0                  0.0                  0.0   \n",
       "1                  0.0                  0.0                  0.0   \n",
       "2                  0.0                  0.0                  0.0   \n",
       "3                  0.0                  0.0                  0.0   \n",
       "4                  0.0                  0.0                  0.0   \n",
       "\n",
       "   2024-09-30 23:00:00  \n",
       "0                  0.0  \n",
       "1                  0.0  \n",
       "2                  0.0  \n",
       "3                  0.0  \n",
       "4                  0.0  \n",
       "\n",
       "[5 rows x 43922 columns]"
      ]
     },
     "execution_count": 5,
     "metadata": {},
     "output_type": "execute_result"
    }
   ],
   "source": [
    "df.head()"
   ]
  },
  {
   "cell_type": "code",
   "execution_count": null,
   "id": "02a8e200",
   "metadata": {},
   "outputs": [],
   "source": [
    "#transform this to a GeoPandas DataFrame and then I can perform spatial operations on it."
   ]
  }
 ],
 "metadata": {
  "kernelspec": {
   "display_name": "ultralytics-env",
   "language": "python",
   "name": "python3"
  },
  "language_info": {
   "codemirror_mode": {
    "name": "ipython",
    "version": 3
   },
   "file_extension": ".py",
   "mimetype": "text/x-python",
   "name": "python",
   "nbconvert_exporter": "python",
   "pygments_lexer": "ipython3",
   "version": "3.10.15"
  }
 },
 "nbformat": 4,
 "nbformat_minor": 5
}
