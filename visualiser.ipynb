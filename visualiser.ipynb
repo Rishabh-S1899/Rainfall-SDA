{
 "cells": [
  {
   "cell_type": "code",
   "execution_count": 1,
   "id": "4c92dc8f",
   "metadata": {},
   "outputs": [],
   "source": [
    "import pandas as pd\n"
   ]
  },
  {
   "cell_type": "code",
   "execution_count": 2,
   "id": "1278f8f2",
   "metadata": {},
   "outputs": [],
   "source": [
    "df_weather=pd.read_csv('weather.csv',encoding='utf-8')"
   ]
  },
  {
   "cell_type": "code",
   "execution_count": 5,
   "id": "4b728805",
   "metadata": {},
   "outputs": [
    {
     "data": {
      "text/plain": [
       "Index(['01-01 01:00', '01-01 02:00', '01-01 03:00', '01-01 04:00',\n",
       "       '01-01 05:00', '01-01 06:00', '01-01 07:00', '01-01 08:00',\n",
       "       '01-01 09:00', '01-01 10:00',\n",
       "       ...\n",
       "       '19-01 05:00.33', '19-01 06:00.33', '19-01 07:00.33', '19-01 08:00.33',\n",
       "       '19-01 09:00.33', '19-01 10:00.33', '19-01 11:00.33', '19-01 12:00.33',\n",
       "       '19-01 13:00.33', '19-01 14:00.33'],\n",
       "      dtype='object', length=24494)"
      ]
     },
     "execution_count": 5,
     "metadata": {},
     "output_type": "execute_result"
    }
   ],
   "source": [
    "df_weather.columns\n"
   ]
  },
  {
   "cell_type": "code",
   "execution_count": 4,
   "id": "2da31d7e",
   "metadata": {},
   "outputs": [
    {
     "data": {
      "text/html": [
       "<div>\n",
       "<style scoped>\n",
       "    .dataframe tbody tr th:only-of-type {\n",
       "        vertical-align: middle;\n",
       "    }\n",
       "\n",
       "    .dataframe tbody tr th {\n",
       "        vertical-align: top;\n",
       "    }\n",
       "\n",
       "    .dataframe thead th {\n",
       "        text-align: right;\n",
       "    }\n",
       "</style>\n",
       "<table border=\"1\" class=\"dataframe\">\n",
       "  <thead>\n",
       "    <tr style=\"text-align: right;\">\n",
       "      <th></th>\n",
       "      <th>01-01 01:00</th>\n",
       "      <th>01-01 02:00</th>\n",
       "      <th>01-01 03:00</th>\n",
       "      <th>01-01 04:00</th>\n",
       "      <th>01-01 05:00</th>\n",
       "      <th>01-01 06:00</th>\n",
       "      <th>01-01 07:00</th>\n",
       "      <th>01-01 08:00</th>\n",
       "      <th>01-01 09:00</th>\n",
       "      <th>01-01 10:00</th>\n",
       "      <th>...</th>\n",
       "      <th>19-01 05:00.33</th>\n",
       "      <th>19-01 06:00.33</th>\n",
       "      <th>19-01 07:00.33</th>\n",
       "      <th>19-01 08:00.33</th>\n",
       "      <th>19-01 09:00.33</th>\n",
       "      <th>19-01 10:00.33</th>\n",
       "      <th>19-01 11:00.33</th>\n",
       "      <th>19-01 12:00.33</th>\n",
       "      <th>19-01 13:00.33</th>\n",
       "      <th>19-01 14:00.33</th>\n",
       "    </tr>\n",
       "  </thead>\n",
       "  <tbody>\n",
       "    <tr>\n",
       "      <th>0</th>\n",
       "      <td>0.0</td>\n",
       "      <td>0.000009</td>\n",
       "      <td>0.000014</td>\n",
       "      <td>0.000014</td>\n",
       "      <td>0.000032</td>\n",
       "      <td>0.000149</td>\n",
       "      <td>0.000186</td>\n",
       "      <td>0.001388</td>\n",
       "      <td>0.001468</td>\n",
       "      <td>0.001468</td>\n",
       "      <td>...</td>\n",
       "      <td>0.0</td>\n",
       "      <td>0.0</td>\n",
       "      <td>0.0</td>\n",
       "      <td>0.0</td>\n",
       "      <td>0.0</td>\n",
       "      <td>0.0</td>\n",
       "      <td>0.0</td>\n",
       "      <td>0.0</td>\n",
       "      <td>0.0</td>\n",
       "      <td>0.0</td>\n",
       "    </tr>\n",
       "    <tr>\n",
       "      <th>1</th>\n",
       "      <td>0.0</td>\n",
       "      <td>0.000000</td>\n",
       "      <td>0.000000</td>\n",
       "      <td>0.000000</td>\n",
       "      <td>0.000017</td>\n",
       "      <td>0.000121</td>\n",
       "      <td>0.000152</td>\n",
       "      <td>0.001315</td>\n",
       "      <td>0.001386</td>\n",
       "      <td>0.001386</td>\n",
       "      <td>...</td>\n",
       "      <td>0.0</td>\n",
       "      <td>0.0</td>\n",
       "      <td>0.0</td>\n",
       "      <td>0.0</td>\n",
       "      <td>0.0</td>\n",
       "      <td>0.0</td>\n",
       "      <td>0.0</td>\n",
       "      <td>0.0</td>\n",
       "      <td>0.0</td>\n",
       "      <td>0.0</td>\n",
       "    </tr>\n",
       "    <tr>\n",
       "      <th>2</th>\n",
       "      <td>0.0</td>\n",
       "      <td>0.000000</td>\n",
       "      <td>0.000000</td>\n",
       "      <td>0.000000</td>\n",
       "      <td>0.000016</td>\n",
       "      <td>0.000103</td>\n",
       "      <td>0.000128</td>\n",
       "      <td>0.001226</td>\n",
       "      <td>0.001288</td>\n",
       "      <td>0.001288</td>\n",
       "      <td>...</td>\n",
       "      <td>0.0</td>\n",
       "      <td>0.0</td>\n",
       "      <td>0.0</td>\n",
       "      <td>0.0</td>\n",
       "      <td>0.0</td>\n",
       "      <td>0.0</td>\n",
       "      <td>0.0</td>\n",
       "      <td>0.0</td>\n",
       "      <td>0.0</td>\n",
       "      <td>0.0</td>\n",
       "    </tr>\n",
       "    <tr>\n",
       "      <th>3</th>\n",
       "      <td>0.0</td>\n",
       "      <td>0.000000</td>\n",
       "      <td>0.000000</td>\n",
       "      <td>0.000000</td>\n",
       "      <td>0.000015</td>\n",
       "      <td>0.000084</td>\n",
       "      <td>0.000103</td>\n",
       "      <td>0.001137</td>\n",
       "      <td>0.001190</td>\n",
       "      <td>0.001190</td>\n",
       "      <td>...</td>\n",
       "      <td>0.0</td>\n",
       "      <td>0.0</td>\n",
       "      <td>0.0</td>\n",
       "      <td>0.0</td>\n",
       "      <td>0.0</td>\n",
       "      <td>0.0</td>\n",
       "      <td>0.0</td>\n",
       "      <td>0.0</td>\n",
       "      <td>0.0</td>\n",
       "      <td>0.0</td>\n",
       "    </tr>\n",
       "    <tr>\n",
       "      <th>4</th>\n",
       "      <td>0.0</td>\n",
       "      <td>0.000000</td>\n",
       "      <td>0.000000</td>\n",
       "      <td>0.000000</td>\n",
       "      <td>0.000016</td>\n",
       "      <td>0.000070</td>\n",
       "      <td>0.000084</td>\n",
       "      <td>0.000832</td>\n",
       "      <td>0.000984</td>\n",
       "      <td>0.000984</td>\n",
       "      <td>...</td>\n",
       "      <td>0.0</td>\n",
       "      <td>0.0</td>\n",
       "      <td>0.0</td>\n",
       "      <td>0.0</td>\n",
       "      <td>0.0</td>\n",
       "      <td>0.0</td>\n",
       "      <td>0.0</td>\n",
       "      <td>0.0</td>\n",
       "      <td>0.0</td>\n",
       "      <td>0.0</td>\n",
       "    </tr>\n",
       "  </tbody>\n",
       "</table>\n",
       "<p>5 rows × 24494 columns</p>\n",
       "</div>"
      ],
      "text/plain": [
       "   01-01 01:00  01-01 02:00  01-01 03:00  01-01 04:00  01-01 05:00  \\\n",
       "0          0.0     0.000009     0.000014     0.000014     0.000032   \n",
       "1          0.0     0.000000     0.000000     0.000000     0.000017   \n",
       "2          0.0     0.000000     0.000000     0.000000     0.000016   \n",
       "3          0.0     0.000000     0.000000     0.000000     0.000015   \n",
       "4          0.0     0.000000     0.000000     0.000000     0.000016   \n",
       "\n",
       "   01-01 06:00  01-01 07:00  01-01 08:00  01-01 09:00  01-01 10:00  ...  \\\n",
       "0     0.000149     0.000186     0.001388     0.001468     0.001468  ...   \n",
       "1     0.000121     0.000152     0.001315     0.001386     0.001386  ...   \n",
       "2     0.000103     0.000128     0.001226     0.001288     0.001288  ...   \n",
       "3     0.000084     0.000103     0.001137     0.001190     0.001190  ...   \n",
       "4     0.000070     0.000084     0.000832     0.000984     0.000984  ...   \n",
       "\n",
       "   19-01 05:00.33  19-01 06:00.33  19-01 07:00.33  19-01 08:00.33  \\\n",
       "0             0.0             0.0             0.0             0.0   \n",
       "1             0.0             0.0             0.0             0.0   \n",
       "2             0.0             0.0             0.0             0.0   \n",
       "3             0.0             0.0             0.0             0.0   \n",
       "4             0.0             0.0             0.0             0.0   \n",
       "\n",
       "   19-01 09:00.33  19-01 10:00.33  19-01 11:00.33  19-01 12:00.33  \\\n",
       "0             0.0             0.0             0.0             0.0   \n",
       "1             0.0             0.0             0.0             0.0   \n",
       "2             0.0             0.0             0.0             0.0   \n",
       "3             0.0             0.0             0.0             0.0   \n",
       "4             0.0             0.0             0.0             0.0   \n",
       "\n",
       "   19-01 13:00.33  19-01 14:00.33  \n",
       "0             0.0             0.0  \n",
       "1             0.0             0.0  \n",
       "2             0.0             0.0  \n",
       "3             0.0             0.0  \n",
       "4             0.0             0.0  \n",
       "\n",
       "[5 rows x 24494 columns]"
      ]
     },
     "execution_count": 4,
     "metadata": {},
     "output_type": "execute_result"
    }
   ],
   "source": [
    "df_weather.head()"
   ]
  },
  {
   "cell_type": "code",
   "execution_count": 5,
   "id": "f6871a3d",
   "metadata": {},
   "outputs": [
    {
     "data": {
      "text/plain": [
       "(7396, 24494)"
      ]
     },
     "execution_count": 5,
     "metadata": {},
     "output_type": "execute_result"
    }
   ],
   "source": [
    "df_weather.shape"
   ]
  },
  {
   "cell_type": "code",
   "execution_count": 6,
   "id": "f0cfd960",
   "metadata": {},
   "outputs": [],
   "source": [
    "coordinates = pd.read_csv('coordinates.csv',encoding='utf-8')"
   ]
  },
  {
   "cell_type": "code",
   "execution_count": 10,
   "id": "8c554a0f",
   "metadata": {},
   "outputs": [
    {
     "data": {
      "text/plain": [
       "7396"
      ]
     },
     "execution_count": 10,
     "metadata": {},
     "output_type": "execute_result"
    }
   ],
   "source": [
    "len(coordinates['longitude'])"
   ]
  },
  {
   "cell_type": "code",
   "execution_count": 11,
   "id": "a90ecc91",
   "metadata": {},
   "outputs": [],
   "source": [
    "df_weather['longitude']=coordinates['longitude']"
   ]
  },
  {
   "cell_type": "code",
   "execution_count": 12,
   "id": "10129195",
   "metadata": {},
   "outputs": [],
   "source": [
    "df_weather['latitude']=coordinates['latitude']"
   ]
  },
  {
   "cell_type": "code",
   "execution_count": 14,
   "id": "0e72295b",
   "metadata": {},
   "outputs": [],
   "source": [
    "df_weather.to_csv('weather_with_coordinates.csv',index=False)"
   ]
  }
 ],
 "metadata": {
  "kernelspec": {
   "display_name": "ultralytics-env",
   "language": "python",
   "name": "python3"
  },
  "language_info": {
   "codemirror_mode": {
    "name": "ipython",
    "version": 3
   },
   "file_extension": ".py",
   "mimetype": "text/x-python",
   "name": "python",
   "nbconvert_exporter": "python",
   "pygments_lexer": "ipython3",
   "version": "3.10.15"
  }
 },
 "nbformat": 4,
 "nbformat_minor": 5
}
