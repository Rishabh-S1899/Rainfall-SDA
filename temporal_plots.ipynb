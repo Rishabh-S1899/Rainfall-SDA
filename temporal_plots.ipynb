{
 "cells": [
  {
   "cell_type": "code",
   "execution_count": null,
   "id": "18274776",
   "metadata": {},
   "outputs": [],
   "source": [
    "import pandas as pd\n",
    "from utils import plot_monthly_rainfall_v2,plot_average_daily_rainfall_v2, plot_yearly_total_rainfall_comparison,plot_standard_acf"
   ]
  },
  {
   "cell_type": "code",
   "execution_count": 2,
   "id": "55d20f9b",
   "metadata": {},
   "outputs": [],
   "source": [
    "df=pd.read_csv('datasets/rainfall_data_final.csv')"
   ]
  },
  {
   "cell_type": "code",
   "execution_count": 3,
   "id": "2f654fa7",
   "metadata": {},
   "outputs": [],
   "source": [
    "df.drop('index_right',axis=1,inplace=True)"
   ]
  },
  {
   "cell_type": "code",
   "execution_count": 4,
   "id": "aa20ce6a",
   "metadata": {},
   "outputs": [
    {
     "data": {
      "text/plain": [
       "60.70137"
      ]
     },
     "execution_count": 4,
     "metadata": {},
     "output_type": "execute_result"
    }
   ],
   "source": [
    "max(df['rainfall'])"
   ]
  },
  {
   "cell_type": "code",
   "execution_count": 5,
   "id": "d6cffd9a",
   "metadata": {},
   "outputs": [],
   "source": [
    "# plot_monthly_rainfall_v2(df)"
   ]
  },
  {
   "cell_type": "code",
   "execution_count": 6,
   "id": "125f6ee7",
   "metadata": {},
   "outputs": [],
   "source": [
    "# plot_average_daily_rainfall_v2(df)"
   ]
  },
  {
   "cell_type": "code",
   "execution_count": 7,
   "id": "1de7bc3c",
   "metadata": {},
   "outputs": [],
   "source": [
    "# plot_yearly_total_rainfall_comparison(df)"
   ]
  },
  {
   "cell_type": "code",
   "execution_count": null,
   "id": "8dfcf006",
   "metadata": {},
   "outputs": [],
   "source": [
    "# plot_rainfall_autocorrelation(df)"
   ]
  },
  {
   "cell_type": "code",
   "execution_count": null,
   "id": "1a83857a",
   "metadata": {},
   "outputs": [],
   "source": [
    "plot(df)"
   ]
  },
  {
   "cell_type": "code",
   "execution_count": null,
   "id": "9eb656dd",
   "metadata": {},
   "outputs": [],
   "source": []
  }
 ],
 "metadata": {
  "kernelspec": {
   "display_name": "ultralytics-env",
   "language": "python",
   "name": "python3"
  },
  "language_info": {
   "codemirror_mode": {
    "name": "ipython",
    "version": 3
   },
   "file_extension": ".py",
   "mimetype": "text/x-python",
   "name": "python",
   "nbconvert_exporter": "python",
   "pygments_lexer": "ipython3",
   "version": "3.10.15"
  }
 },
 "nbformat": 4,
 "nbformat_minor": 5
}
