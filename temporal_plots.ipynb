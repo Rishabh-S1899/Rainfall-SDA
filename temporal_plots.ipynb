{
 "cells": [
  {
   "cell_type": "code",
   "execution_count": 1,
   "id": "18274776",
   "metadata": {},
   "outputs": [],
   "source": [
    "import pandas as pd\n",
    "from utils import plot_monthly_rainfall_v2,plot_average_daily_rainfall_v2, plot_yearly_total_rainfall_comparison,plot_standard_acf,generate_all_acf_plots"
   ]
  },
  {
   "cell_type": "code",
   "execution_count": 2,
   "id": "55d20f9b",
   "metadata": {},
   "outputs": [],
   "source": [
    "df=pd.read_csv('datasets/rainfall_data_final.csv')"
   ]
  },
  {
   "cell_type": "code",
   "execution_count": 3,
   "id": "2f654fa7",
   "metadata": {},
   "outputs": [],
   "source": [
    "df.drop('index_right',axis=1,inplace=True)"
   ]
  },
  {
   "cell_type": "code",
   "execution_count": 4,
   "id": "aa20ce6a",
   "metadata": {},
   "outputs": [
    {
     "data": {
      "text/plain": [
       "60.70137"
      ]
     },
     "execution_count": 4,
     "metadata": {},
     "output_type": "execute_result"
    }
   ],
   "source": [
    "max(df['rainfall'])"
   ]
  },
  {
   "cell_type": "code",
   "execution_count": 5,
   "id": "d6cffd9a",
   "metadata": {},
   "outputs": [],
   "source": [
    "# plot_monthly_rainfall_v2(df)"
   ]
  },
  {
   "cell_type": "code",
   "execution_count": 6,
   "id": "125f6ee7",
   "metadata": {},
   "outputs": [],
   "source": [
    "# plot_average_daily_rainfall_v2(df)"
   ]
  },
  {
   "cell_type": "code",
   "execution_count": 7,
   "id": "1de7bc3c",
   "metadata": {},
   "outputs": [],
   "source": [
    "# plot_yearly_total_rainfall_comparison(df)"
   ]
  },
  {
   "cell_type": "code",
   "execution_count": 8,
   "id": "8dfcf006",
   "metadata": {},
   "outputs": [],
   "source": [
    "# plot_rainfall_autocorrelation(df)"
   ]
  },
  {
   "cell_type": "code",
   "execution_count": 9,
   "id": "1a83857a",
   "metadata": {},
   "outputs": [],
   "source": [
    "# plot_standard_acf(df)"
   ]
  },
  {
   "cell_type": "code",
   "execution_count": 10,
   "id": "a55244a0",
   "metadata": {},
   "outputs": [],
   "source": [
    "# generate_all_acf_plots(df)"
   ]
  },
  {
   "cell_type": "code",
   "execution_count": 11,
   "id": "7cb21a89",
   "metadata": {},
   "outputs": [],
   "source": [
    "from acf_utils import generate_all_acf_plots "
   ]
  },
  {
   "cell_type": "code",
   "execution_count": 12,
   "id": "f43de2cb",
   "metadata": {},
   "outputs": [],
   "source": [
    "# generate_all_acf_plots(df)"
   ]
  },
  {
   "cell_type": "code",
   "execution_count": 13,
   "id": "34e93c5c",
   "metadata": {},
   "outputs": [],
   "source": [
    "from pacf_utils import generate_all_pacf_plots"
   ]
  },
  {
   "cell_type": "code",
   "execution_count": 14,
   "id": "39a389b5",
   "metadata": {},
   "outputs": [
    {
     "name": "stdout",
     "output_type": "stream",
     "text": [
      "Starting comprehensive PACF analysis...\n",
      "============================================================\n",
      "PACF Directory structure created successfully!\n",
      "\n",
      "=== Generating State-wise PACF plots for hourly data ===\n",
      "Data prepared successfully for PACF analysis!\n",
      "Date range: 2010-06-01 00:00:00 to 2024-09-30 23:00:00\n",
      "States: ['Himachal Pradesh' 'Uttarakhand']\n",
      "Years: [2010, 2011, 2012, 2013, 2014, 2015, 2016, 2017, 2018, 2019, 2020, 2021, 2022, 2023, 2024]\n",
      "Saved: plots\\PACF\\pacf_state_wise\\hourly\\himachal_pradesh_hourly_all_years.png\n",
      "Saved: plots\\PACF\\pacf_state_wise\\hourly\\himachal_pradesh_hourly_2010.png\n",
      "Saved: plots\\PACF\\pacf_state_wise\\hourly\\himachal_pradesh_hourly_2011.png\n",
      "Saved: plots\\PACF\\pacf_state_wise\\hourly\\himachal_pradesh_hourly_2012.png\n",
      "Saved: plots\\PACF\\pacf_state_wise\\hourly\\himachal_pradesh_hourly_2013.png\n",
      "Saved: plots\\PACF\\pacf_state_wise\\hourly\\himachal_pradesh_hourly_2014.png\n",
      "Saved: plots\\PACF\\pacf_state_wise\\hourly\\himachal_pradesh_hourly_2015.png\n",
      "Saved: plots\\PACF\\pacf_state_wise\\hourly\\himachal_pradesh_hourly_2016.png\n",
      "Saved: plots\\PACF\\pacf_state_wise\\hourly\\himachal_pradesh_hourly_2017.png\n",
      "Saved: plots\\PACF\\pacf_state_wise\\hourly\\himachal_pradesh_hourly_2018.png\n",
      "Saved: plots\\PACF\\pacf_state_wise\\hourly\\himachal_pradesh_hourly_2019.png\n",
      "Saved: plots\\PACF\\pacf_state_wise\\hourly\\himachal_pradesh_hourly_2020.png\n",
      "Saved: plots\\PACF\\pacf_state_wise\\hourly\\himachal_pradesh_hourly_2021.png\n",
      "Saved: plots\\PACF\\pacf_state_wise\\hourly\\himachal_pradesh_hourly_2022.png\n",
      "Saved: plots\\PACF\\pacf_state_wise\\hourly\\himachal_pradesh_hourly_2023.png\n",
      "Saved: plots\\PACF\\pacf_state_wise\\hourly\\himachal_pradesh_hourly_2024.png\n",
      "Saved: plots\\PACF\\pacf_state_wise\\hourly\\uttarakhand_hourly_all_years.png\n",
      "Saved: plots\\PACF\\pacf_state_wise\\hourly\\uttarakhand_hourly_2010.png\n",
      "Saved: plots\\PACF\\pacf_state_wise\\hourly\\uttarakhand_hourly_2011.png\n",
      "Saved: plots\\PACF\\pacf_state_wise\\hourly\\uttarakhand_hourly_2012.png\n",
      "Saved: plots\\PACF\\pacf_state_wise\\hourly\\uttarakhand_hourly_2013.png\n",
      "Saved: plots\\PACF\\pacf_state_wise\\hourly\\uttarakhand_hourly_2014.png\n",
      "Saved: plots\\PACF\\pacf_state_wise\\hourly\\uttarakhand_hourly_2015.png\n",
      "Saved: plots\\PACF\\pacf_state_wise\\hourly\\uttarakhand_hourly_2016.png\n",
      "Saved: plots\\PACF\\pacf_state_wise\\hourly\\uttarakhand_hourly_2017.png\n",
      "Saved: plots\\PACF\\pacf_state_wise\\hourly\\uttarakhand_hourly_2018.png\n",
      "Saved: plots\\PACF\\pacf_state_wise\\hourly\\uttarakhand_hourly_2019.png\n",
      "Saved: plots\\PACF\\pacf_state_wise\\hourly\\uttarakhand_hourly_2020.png\n",
      "Saved: plots\\PACF\\pacf_state_wise\\hourly\\uttarakhand_hourly_2021.png\n",
      "Saved: plots\\PACF\\pacf_state_wise\\hourly\\uttarakhand_hourly_2022.png\n",
      "Saved: plots\\PACF\\pacf_state_wise\\hourly\\uttarakhand_hourly_2023.png\n",
      "Saved: plots\\PACF\\pacf_state_wise\\hourly\\uttarakhand_hourly_2024.png\n",
      "\n",
      "=== Generating State-wise PACF plots for daily data ===\n",
      "Data prepared successfully for PACF analysis!\n",
      "Date range: 2010-06-01 00:00:00 to 2024-09-30 23:00:00\n",
      "States: ['Himachal Pradesh' 'Uttarakhand']\n",
      "Years: [2010, 2011, 2012, 2013, 2014, 2015, 2016, 2017, 2018, 2019, 2020, 2021, 2022, 2023, 2024]\n",
      "Saved: plots\\PACF\\pacf_state_wise\\daily\\himachal_pradesh_daily_all_years.png\n",
      "Saved: plots\\PACF\\pacf_state_wise\\daily\\himachal_pradesh_daily_2010.png\n",
      "Saved: plots\\PACF\\pacf_state_wise\\daily\\himachal_pradesh_daily_2011.png\n",
      "Saved: plots\\PACF\\pacf_state_wise\\daily\\himachal_pradesh_daily_2012.png\n",
      "Saved: plots\\PACF\\pacf_state_wise\\daily\\himachal_pradesh_daily_2013.png\n",
      "Saved: plots\\PACF\\pacf_state_wise\\daily\\himachal_pradesh_daily_2014.png\n",
      "Saved: plots\\PACF\\pacf_state_wise\\daily\\himachal_pradesh_daily_2015.png\n",
      "Saved: plots\\PACF\\pacf_state_wise\\daily\\himachal_pradesh_daily_2016.png\n",
      "Saved: plots\\PACF\\pacf_state_wise\\daily\\himachal_pradesh_daily_2017.png\n",
      "Saved: plots\\PACF\\pacf_state_wise\\daily\\himachal_pradesh_daily_2018.png\n",
      "Saved: plots\\PACF\\pacf_state_wise\\daily\\himachal_pradesh_daily_2019.png\n",
      "Saved: plots\\PACF\\pacf_state_wise\\daily\\himachal_pradesh_daily_2020.png\n",
      "Saved: plots\\PACF\\pacf_state_wise\\daily\\himachal_pradesh_daily_2021.png\n",
      "Saved: plots\\PACF\\pacf_state_wise\\daily\\himachal_pradesh_daily_2022.png\n",
      "Saved: plots\\PACF\\pacf_state_wise\\daily\\himachal_pradesh_daily_2023.png\n",
      "Saved: plots\\PACF\\pacf_state_wise\\daily\\himachal_pradesh_daily_2024.png\n",
      "Saved: plots\\PACF\\pacf_state_wise\\daily\\uttarakhand_daily_all_years.png\n",
      "Saved: plots\\PACF\\pacf_state_wise\\daily\\uttarakhand_daily_2010.png\n",
      "Saved: plots\\PACF\\pacf_state_wise\\daily\\uttarakhand_daily_2011.png\n",
      "Saved: plots\\PACF\\pacf_state_wise\\daily\\uttarakhand_daily_2012.png\n",
      "Saved: plots\\PACF\\pacf_state_wise\\daily\\uttarakhand_daily_2013.png\n",
      "Saved: plots\\PACF\\pacf_state_wise\\daily\\uttarakhand_daily_2014.png\n",
      "Saved: plots\\PACF\\pacf_state_wise\\daily\\uttarakhand_daily_2015.png\n",
      "Saved: plots\\PACF\\pacf_state_wise\\daily\\uttarakhand_daily_2016.png\n",
      "Saved: plots\\PACF\\pacf_state_wise\\daily\\uttarakhand_daily_2017.png\n",
      "Saved: plots\\PACF\\pacf_state_wise\\daily\\uttarakhand_daily_2018.png\n",
      "Saved: plots\\PACF\\pacf_state_wise\\daily\\uttarakhand_daily_2019.png\n",
      "Saved: plots\\PACF\\pacf_state_wise\\daily\\uttarakhand_daily_2020.png\n",
      "Saved: plots\\PACF\\pacf_state_wise\\daily\\uttarakhand_daily_2021.png\n",
      "Saved: plots\\PACF\\pacf_state_wise\\daily\\uttarakhand_daily_2022.png\n",
      "Saved: plots\\PACF\\pacf_state_wise\\daily\\uttarakhand_daily_2023.png\n",
      "Saved: plots\\PACF\\pacf_state_wise\\daily\\uttarakhand_daily_2024.png\n",
      "\n",
      "=== Generating State-wise PACF plots for monthly data ===\n",
      "Data prepared successfully for PACF analysis!\n",
      "Date range: 2010-06-01 00:00:00 to 2024-09-30 23:00:00\n",
      "States: ['Himachal Pradesh' 'Uttarakhand']\n",
      "Years: [2010, 2011, 2012, 2013, 2014, 2015, 2016, 2017, 2018, 2019, 2020, 2021, 2022, 2023, 2024]\n",
      "Saved: plots\\PACF\\pacf_state_wise\\monthly\\himachal_pradesh_monthly_all_years.png\n",
      "Saved: plots\\PACF\\pacf_state_wise\\monthly\\uttarakhand_monthly_all_years.png\n",
      "\n",
      "=== Generating Regional PACF plots for hourly data ===\n",
      "Data prepared successfully for PACF analysis!\n",
      "Date range: 2010-06-01 00:00:00 to 2024-09-30 23:00:00\n",
      "States: ['Himachal Pradesh' 'Uttarakhand']\n",
      "Years: [2010, 2011, 2012, 2013, 2014, 2015, 2016, 2017, 2018, 2019, 2020, 2021, 2022, 2023, 2024]\n",
      "Saved: plots\\PACF\\pacf_regional\\hourly\\regional_hourly_all_years.png\n",
      "Saved: plots\\PACF\\pacf_regional\\hourly\\regional_hourly_2010.png\n",
      "Saved: plots\\PACF\\pacf_regional\\hourly\\regional_hourly_2011.png\n",
      "Saved: plots\\PACF\\pacf_regional\\hourly\\regional_hourly_2012.png\n",
      "Saved: plots\\PACF\\pacf_regional\\hourly\\regional_hourly_2013.png\n",
      "Saved: plots\\PACF\\pacf_regional\\hourly\\regional_hourly_2014.png\n",
      "Saved: plots\\PACF\\pacf_regional\\hourly\\regional_hourly_2015.png\n",
      "Saved: plots\\PACF\\pacf_regional\\hourly\\regional_hourly_2016.png\n",
      "Saved: plots\\PACF\\pacf_regional\\hourly\\regional_hourly_2017.png\n",
      "Saved: plots\\PACF\\pacf_regional\\hourly\\regional_hourly_2018.png\n",
      "Saved: plots\\PACF\\pacf_regional\\hourly\\regional_hourly_2019.png\n",
      "Saved: plots\\PACF\\pacf_regional\\hourly\\regional_hourly_2020.png\n",
      "Saved: plots\\PACF\\pacf_regional\\hourly\\regional_hourly_2021.png\n",
      "Saved: plots\\PACF\\pacf_regional\\hourly\\regional_hourly_2022.png\n",
      "Saved: plots\\PACF\\pacf_regional\\hourly\\regional_hourly_2023.png\n",
      "Saved: plots\\PACF\\pacf_regional\\hourly\\regional_hourly_2024.png\n",
      "\n",
      "=== Generating Regional PACF plots for daily data ===\n",
      "Data prepared successfully for PACF analysis!\n",
      "Date range: 2010-06-01 00:00:00 to 2024-09-30 23:00:00\n",
      "States: ['Himachal Pradesh' 'Uttarakhand']\n",
      "Years: [2010, 2011, 2012, 2013, 2014, 2015, 2016, 2017, 2018, 2019, 2020, 2021, 2022, 2023, 2024]\n",
      "Saved: plots\\PACF\\pacf_regional\\daily\\regional_daily_all_years.png\n",
      "Saved: plots\\PACF\\pacf_regional\\daily\\regional_daily_2010.png\n",
      "Saved: plots\\PACF\\pacf_regional\\daily\\regional_daily_2011.png\n",
      "Saved: plots\\PACF\\pacf_regional\\daily\\regional_daily_2012.png\n",
      "Saved: plots\\PACF\\pacf_regional\\daily\\regional_daily_2013.png\n",
      "Saved: plots\\PACF\\pacf_regional\\daily\\regional_daily_2014.png\n",
      "Saved: plots\\PACF\\pacf_regional\\daily\\regional_daily_2015.png\n",
      "Saved: plots\\PACF\\pacf_regional\\daily\\regional_daily_2016.png\n",
      "Saved: plots\\PACF\\pacf_regional\\daily\\regional_daily_2017.png\n",
      "Saved: plots\\PACF\\pacf_regional\\daily\\regional_daily_2018.png\n",
      "Saved: plots\\PACF\\pacf_regional\\daily\\regional_daily_2019.png\n",
      "Saved: plots\\PACF\\pacf_regional\\daily\\regional_daily_2020.png\n",
      "Saved: plots\\PACF\\pacf_regional\\daily\\regional_daily_2021.png\n",
      "Saved: plots\\PACF\\pacf_regional\\daily\\regional_daily_2022.png\n",
      "Saved: plots\\PACF\\pacf_regional\\daily\\regional_daily_2023.png\n",
      "Saved: plots\\PACF\\pacf_regional\\daily\\regional_daily_2024.png\n",
      "\n",
      "=== Generating Regional PACF plots for monthly data ===\n",
      "Data prepared successfully for PACF analysis!\n",
      "Date range: 2010-06-01 00:00:00 to 2024-09-30 23:00:00\n",
      "States: ['Himachal Pradesh' 'Uttarakhand']\n",
      "Years: [2010, 2011, 2012, 2013, 2014, 2015, 2016, 2017, 2018, 2019, 2020, 2021, 2022, 2023, 2024]\n",
      "Saved: plots\\PACF\\pacf_regional\\monthly\\regional_monthly_all_years.png\n",
      "\n",
      "=== Generating Combined PACF Comparison plots ===\n",
      "Data prepared successfully for PACF analysis!\n",
      "Date range: 2010-06-01 00:00:00 to 2024-09-30 23:00:00\n",
      "States: ['Himachal Pradesh' 'Uttarakhand']\n",
      "Years: [2010, 2011, 2012, 2013, 2014, 2015, 2016, 2017, 2018, 2019, 2020, 2021, 2022, 2023, 2024]\n",
      "Saved: plots\\PACF\\pacf_combined\\state_wise\\states_comparison_hourly.png\n",
      "Saved: plots\\PACF\\pacf_combined\\state_wise\\states_comparison_daily.png\n",
      "Saved: plots\\PACF\\pacf_combined\\state_wise\\states_comparison_monthly.png\n",
      "Saved: plots\\PACF\\pacf_combined\\regional\\regional_levels_comparison.png\n",
      "\n",
      "=== Generating ACF vs PACF Comparison plots ===\n",
      "Data prepared successfully for PACF analysis!\n",
      "Date range: 2010-06-01 00:00:00 to 2024-09-30 23:00:00\n",
      "States: ['Himachal Pradesh' 'Uttarakhand']\n",
      "Years: [2010, 2011, 2012, 2013, 2014, 2015, 2016, 2017, 2018, 2019, 2020, 2021, 2022, 2023, 2024]\n",
      "Saved: plots\\PACF\\acf_pacf_comparison\\himachal_pradesh_hourly_acf_pacf_comparison.png\n",
      "Saved: plots\\PACF\\acf_pacf_comparison\\himachal_pradesh_daily_acf_pacf_comparison.png\n",
      "Saved: plots\\PACF\\acf_pacf_comparison\\himachal_pradesh_monthly_acf_pacf_comparison.png\n",
      "Saved: plots\\PACF\\acf_pacf_comparison\\uttarakhand_hourly_acf_pacf_comparison.png\n",
      "Saved: plots\\PACF\\acf_pacf_comparison\\uttarakhand_daily_acf_pacf_comparison.png\n",
      "Saved: plots\\PACF\\acf_pacf_comparison\\uttarakhand_monthly_acf_pacf_comparison.png\n",
      "Saved: plots\\PACF\\acf_pacf_comparison\\regional_hourly_acf_pacf_comparison.png\n",
      "Saved: plots\\PACF\\acf_pacf_comparison\\regional_daily_acf_pacf_comparison.png\n",
      "Saved: plots\\PACF\\acf_pacf_comparison\\regional_monthly_acf_pacf_comparison.png\n",
      "\n",
      "============================================================\n",
      "All PACF plots generated successfully!\n",
      "Check the 'plots/PACF/' directory for all generated plots.\n",
      "\n",
      "PACF Directory structure:\n",
      "plots/PACF/\n",
      "├── pacf_state_wise/\n",
      "│   ├── hourly/\n",
      "│   ├── daily/\n",
      "│   ├── monthly/\n",
      "│   └── yearly/\n",
      "├── pacf_regional/\n",
      "│   ├── hourly/\n",
      "│   ├── daily/\n",
      "│   ├── monthly/\n",
      "│   └── yearly/\n",
      "├── pacf_combined/\n",
      "│   ├── state_wise/\n",
      "│   └── regional/\n",
      "└── acf_pacf_comparison/\n",
      "    ├── State-wise ACF vs PACF plots\n",
      "    └── Regional ACF vs PACF plots\n"
     ]
    }
   ],
   "source": [
    "generate_all_pacf_plots(df)"
   ]
  },
  {
   "cell_type": "code",
   "execution_count": null,
   "id": "67e80a10",
   "metadata": {},
   "outputs": [],
   "source": []
  }
 ],
 "metadata": {
  "kernelspec": {
   "display_name": "ultralytics-env",
   "language": "python",
   "name": "python3"
  },
  "language_info": {
   "codemirror_mode": {
    "name": "ipython",
    "version": 3
   },
   "file_extension": ".py",
   "mimetype": "text/x-python",
   "name": "python",
   "nbconvert_exporter": "python",
   "pygments_lexer": "ipython3",
   "version": "3.10.15"
  }
 },
 "nbformat": 4,
 "nbformat_minor": 5
}
